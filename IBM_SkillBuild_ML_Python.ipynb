{
  "nbformat": 4,
  "nbformat_minor": 0,
  "metadata": {
    "colab": {
      "name": "IBM SkillBuild ML Python.ipynb",
      "provenance": [],
      "authorship_tag": "ABX9TyMuVllBad2Qdh/AVnZibNg3",
      "include_colab_link": true
    },
    "kernelspec": {
      "name": "python3",
      "display_name": "Python 3"
    },
    "language_info": {
      "name": "python"
    }
  },
  "cells": [
    {
      "cell_type": "markdown",
      "metadata": {
        "id": "view-in-github",
        "colab_type": "text"
      },
      "source": [
        "<a href=\"https://colab.research.google.com/github/ilhamrais9/Python-Journey/blob/master/IBM_SkillBuild_ML_Python.ipynb\" target=\"_parent\"><img src=\"https://colab.research.google.com/assets/colab-badge.svg\" alt=\"Open In Colab\"/></a>"
      ]
    },
    {
      "cell_type": "markdown",
      "metadata": {
        "id": "el9NznEfI4j7"
      },
      "source": [
        "# Machine Learning With IBM Notes & Programing\n",
        "\n",
        "Course of IBM, This is a note only perposes.\n",
        "\n",
        "## How Machine Learning Works\n",
        "\n",
        "Machine Learning uses machine learning algorithms to learn from data and allow computers to fine hindden insight. These models help us in a variety of tasks, such as object recognition, sumarization, recommendation, an so on. \n",
        "\n",
        "## Majos machine learning techniques\n",
        "\n",
        "- Refression /  Estimation\n",
        "(Prediction Continuous values)\n",
        "- Classification\n",
        "(Predicting the item class/category of a case)\n",
        "- Clustering\n",
        "(Finding the structure of data; summarization)\n",
        "- Associations\n",
        "(Associating freqeuent co-occuring items/events)\n",
        "- Anomaly detection (Discobering abnormal and unusual cases)\n",
        "- Sequence mmining (Predicting next events; Makov Model, HMM)\n",
        "- Dimension Reduction (Reducing the size of data (PCA)\n",
        "- Recommendation systems (Recommending items)\n",
        "\n",
        "##Scikit-learn function\n",
        "```\n",
        "from sklearn import preprocessing\n",
        "X = preprocessing.StandardScaler().fit(X).transform(X)\n",
        "```\n",
        "Machine learning algorithms benefit from standardization of the data set. The preprocessing package of scikit learn provides several common utility functions and transformer classes to change raw feature vectors into a suitable from of vector for meodeling. \n",
        "```\n",
        "from sklearn.model_selection import train_test_split\n",
        "X_train, X_test, y_train, y_test = train_test_split(X, y, test_size=0.33)\n",
        "```\n",
        "Split dataset into train and test sets to train the model and then test the models accuracy separately. \n",
        "\n",
        "For example, a classifier using a support vector classifiaction algorithm.\n",
        "```\n",
        "from sklearn import svm\n",
        "clv = svm.SCV(gamma=0.001, C=100)\n",
        "clv.fit(X_train, y_train)\n",
        "```\n",
        "Now we can train our model to learns classifing unknown cases.\n",
        "Then, we can use our test set to un predictions. \n",
        "```\n",
        "clf.predict(X_test)\n",
        "```\n",
        "The result shows what class of each unknown value is. \n",
        "```\n",
        "from sklearn.metrics import confusion_matrix\n",
        "print(confusion_matrix(y_test, yhat, labels=[1,0)\n",
        "```\n",
        "you can save model by\n",
        "```\n",
        "import pickle\n",
        "s = pickle.dumps(clf)\n",
        "```\n",
        "\n",
        "##Supervised vs unsupervised\n",
        "\n",
        "###Supervise Learning\n",
        "Supervise means to observe and direct the excution of task, project or activity. \n",
        "\n",
        "*We \"teach the model,\" then with that knowledge, it can predict unknown or future instances.*\n",
        "\n",
        "Teach == Training\n",
        " \n",
        "####Types of supervised learning \n",
        "- Classification\n",
        "\n",
        "The process of predicting a discrete class label or category.\n",
        "- Regression\n",
        "\n",
        "The process of predicting a continouous value as opposed to predicting a categorical value in Classification. \n",
        "\n",
        "###Unsupervised Learning\n",
        "We do not supervise the model, but we let the model work on its own to discover information that may not be visible to the human eye. \n",
        "\n",
        "The Unsupervised algorithm train on the dataset, and draws conclusions on UNLABELD data.\n",
        "\n",
        "Widely used unsupervised machine learning techniques:\n",
        "- Dimension reduction\n",
        "\n",
        "Dimensionaluty reduction and/or feature selection play a large role in this by reducing redundant. Feautures to make the classification easier. \n",
        "- Density estimation\n",
        "\n",
        "A very simple concept that is mostly used to explore the data to find some structure within it. \n",
        "- Market basket analysis\n",
        "\n",
        "Modelling technique based upon the theory that if you bur a certain group of items, you're likely to buy another group of items. \n",
        "- Clustering\n",
        "\n",
        "One of the most popular unsupervised machine learning thecniques used for grouping data points or objects that are somehow similar. \n"
      ]
    },
    {
      "cell_type": "markdown",
      "metadata": {
        "id": "edNgWMPsEfta"
      },
      "source": [
        ""
      ]
    },
    {
      "cell_type": "markdown",
      "metadata": {
        "id": "7Vxw3c8CPfVt"
      },
      "source": [
        ""
      ]
    }
  ]
}